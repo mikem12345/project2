{
  "nbformat": 4,
  "nbformat_minor": 0,
  "metadata": {
    "colab": {
      "provenance": []
    },
    "kernelspec": {
      "name": "python3",
      "display_name": "Python 3"
    },
    "language_info": {
      "name": "python"
    }
  },
  "cells": [
    {
      "cell_type": "markdown",
      "source": [
        "## Poin Assignment :\n",
        "**1.** Lakukan investigasi pada kondisi berikut :\n",
        "- 1a. Lakukan pengecekan pada kolom mana yang terdapat data continue di dataframe ? (20 poin)\n",
        "- 1b. Lakukan pengecekan pada kolom mana yang terdapat jenis kategorikal serta Uraikan juga jenis kategorikalnya termasuk kategorikal apa di masing-masing kolom dataframe ? (20 poin)\n",
        "\n",
        "**2.** Looping\n",
        "- `for` loop : print semua nama kolom yang ada pada file `titanic.xlsx` yang hanya dimulai dengan huruf konsonan (15 poin)\n",
        "- `while` loop : print semua angka ganjil hingga `30`. Jika angka ganjil habis dibagi 3, print `\"angka ini habis dibagi 3\"` (15 poin)\n",
        "\n",
        "**3** Lakukan manipulasi data `titanic.xlsx` menggunakan `lambda function` sesuai perintah dibawah ini :\n",
        "1. Hitung jumlah missing value (NaN) pada kolom `body` (15)\n",
        "2. Ubah female menjadi `0` dan male menjadi `1` pada kolom `sex` (15)\n",
        "\n",
        "### Note : soal 1,2,3 menggunakan file titanic.csv"
      ],
      "metadata": {
        "id": "8pg6k5TOcZFX"
      }
    },
    {
      "cell_type": "code",
      "execution_count": null,
      "metadata": {
        "colab": {
          "base_uri": "https://localhost:8080/",
          "height": 539
        },
        "id": "nsdSvePf_9Fo",
        "outputId": "befc73a7-ae7c-469c-8dea-9cf28f31fe65"
      },
      "outputs": [
        {
          "output_type": "execute_result",
          "data": {
            "text/plain": [
              "   pclass  survived                                             name     sex  \\\n",
              "0       1         1                    Allen, Miss. Elisabeth Walton  female   \n",
              "1       1         1                   Allison, Master. Hudson Trevor    male   \n",
              "2       1         0                     Allison, Miss. Helen Loraine  female   \n",
              "3       1         0             Allison, Mr. Hudson Joshua Creighton    male   \n",
              "4       1         0  Allison, Mrs. Hudson J C (Bessie Waldo Daniels)  female   \n",
              "\n",
              "       age  sibsp  parch  ticket      fare    cabin embarked boat   body  \\\n",
              "0  29.0000      0      0   24160  211.3375       B5        S    2    NaN   \n",
              "1   0.9167      1      2  113781  151.5500  C22 C26        S   11    NaN   \n",
              "2   2.0000      1      2  113781  151.5500  C22 C26        S  NaN    NaN   \n",
              "3  30.0000      1      2  113781  151.5500  C22 C26        S  NaN  135.0   \n",
              "4  25.0000      1      2  113781  151.5500  C22 C26        S  NaN    NaN   \n",
              "\n",
              "                         home.dest  \n",
              "0                     St Louis, MO  \n",
              "1  Montreal, PQ / Chesterville, ON  \n",
              "2  Montreal, PQ / Chesterville, ON  \n",
              "3  Montreal, PQ / Chesterville, ON  \n",
              "4  Montreal, PQ / Chesterville, ON  "
            ],
            "text/html": [
              "\n",
              "  <div id=\"df-2389c3e6-d4c6-4f3d-9070-17ddeed0040e\" class=\"colab-df-container\">\n",
              "    <div>\n",
              "<style scoped>\n",
              "    .dataframe tbody tr th:only-of-type {\n",
              "        vertical-align: middle;\n",
              "    }\n",
              "\n",
              "    .dataframe tbody tr th {\n",
              "        vertical-align: top;\n",
              "    }\n",
              "\n",
              "    .dataframe thead th {\n",
              "        text-align: right;\n",
              "    }\n",
              "</style>\n",
              "<table border=\"1\" class=\"dataframe\">\n",
              "  <thead>\n",
              "    <tr style=\"text-align: right;\">\n",
              "      <th></th>\n",
              "      <th>pclass</th>\n",
              "      <th>survived</th>\n",
              "      <th>name</th>\n",
              "      <th>sex</th>\n",
              "      <th>age</th>\n",
              "      <th>sibsp</th>\n",
              "      <th>parch</th>\n",
              "      <th>ticket</th>\n",
              "      <th>fare</th>\n",
              "      <th>cabin</th>\n",
              "      <th>embarked</th>\n",
              "      <th>boat</th>\n",
              "      <th>body</th>\n",
              "      <th>home.dest</th>\n",
              "    </tr>\n",
              "  </thead>\n",
              "  <tbody>\n",
              "    <tr>\n",
              "      <th>0</th>\n",
              "      <td>1</td>\n",
              "      <td>1</td>\n",
              "      <td>Allen, Miss. Elisabeth Walton</td>\n",
              "      <td>female</td>\n",
              "      <td>29.0000</td>\n",
              "      <td>0</td>\n",
              "      <td>0</td>\n",
              "      <td>24160</td>\n",
              "      <td>211.3375</td>\n",
              "      <td>B5</td>\n",
              "      <td>S</td>\n",
              "      <td>2</td>\n",
              "      <td>NaN</td>\n",
              "      <td>St Louis, MO</td>\n",
              "    </tr>\n",
              "    <tr>\n",
              "      <th>1</th>\n",
              "      <td>1</td>\n",
              "      <td>1</td>\n",
              "      <td>Allison, Master. Hudson Trevor</td>\n",
              "      <td>male</td>\n",
              "      <td>0.9167</td>\n",
              "      <td>1</td>\n",
              "      <td>2</td>\n",
              "      <td>113781</td>\n",
              "      <td>151.5500</td>\n",
              "      <td>C22 C26</td>\n",
              "      <td>S</td>\n",
              "      <td>11</td>\n",
              "      <td>NaN</td>\n",
              "      <td>Montreal, PQ / Chesterville, ON</td>\n",
              "    </tr>\n",
              "    <tr>\n",
              "      <th>2</th>\n",
              "      <td>1</td>\n",
              "      <td>0</td>\n",
              "      <td>Allison, Miss. Helen Loraine</td>\n",
              "      <td>female</td>\n",
              "      <td>2.0000</td>\n",
              "      <td>1</td>\n",
              "      <td>2</td>\n",
              "      <td>113781</td>\n",
              "      <td>151.5500</td>\n",
              "      <td>C22 C26</td>\n",
              "      <td>S</td>\n",
              "      <td>NaN</td>\n",
              "      <td>NaN</td>\n",
              "      <td>Montreal, PQ / Chesterville, ON</td>\n",
              "    </tr>\n",
              "    <tr>\n",
              "      <th>3</th>\n",
              "      <td>1</td>\n",
              "      <td>0</td>\n",
              "      <td>Allison, Mr. Hudson Joshua Creighton</td>\n",
              "      <td>male</td>\n",
              "      <td>30.0000</td>\n",
              "      <td>1</td>\n",
              "      <td>2</td>\n",
              "      <td>113781</td>\n",
              "      <td>151.5500</td>\n",
              "      <td>C22 C26</td>\n",
              "      <td>S</td>\n",
              "      <td>NaN</td>\n",
              "      <td>135.0</td>\n",
              "      <td>Montreal, PQ / Chesterville, ON</td>\n",
              "    </tr>\n",
              "    <tr>\n",
              "      <th>4</th>\n",
              "      <td>1</td>\n",
              "      <td>0</td>\n",
              "      <td>Allison, Mrs. Hudson J C (Bessie Waldo Daniels)</td>\n",
              "      <td>female</td>\n",
              "      <td>25.0000</td>\n",
              "      <td>1</td>\n",
              "      <td>2</td>\n",
              "      <td>113781</td>\n",
              "      <td>151.5500</td>\n",
              "      <td>C22 C26</td>\n",
              "      <td>S</td>\n",
              "      <td>NaN</td>\n",
              "      <td>NaN</td>\n",
              "      <td>Montreal, PQ / Chesterville, ON</td>\n",
              "    </tr>\n",
              "  </tbody>\n",
              "</table>\n",
              "</div>\n",
              "    <div class=\"colab-df-buttons\">\n",
              "\n",
              "  <div class=\"colab-df-container\">\n",
              "    <button class=\"colab-df-convert\" onclick=\"convertToInteractive('df-2389c3e6-d4c6-4f3d-9070-17ddeed0040e')\"\n",
              "            title=\"Convert this dataframe to an interactive table.\"\n",
              "            style=\"display:none;\">\n",
              "\n",
              "  <svg xmlns=\"http://www.w3.org/2000/svg\" height=\"24px\" viewBox=\"0 -960 960 960\">\n",
              "    <path d=\"M120-120v-720h720v720H120Zm60-500h600v-160H180v160Zm220 220h160v-160H400v160Zm0 220h160v-160H400v160ZM180-400h160v-160H180v160Zm440 0h160v-160H620v160ZM180-180h160v-160H180v160Zm440 0h160v-160H620v160Z\"/>\n",
              "  </svg>\n",
              "    </button>\n",
              "\n",
              "  <style>\n",
              "    .colab-df-container {\n",
              "      display:flex;\n",
              "      gap: 12px;\n",
              "    }\n",
              "\n",
              "    .colab-df-convert {\n",
              "      background-color: #E8F0FE;\n",
              "      border: none;\n",
              "      border-radius: 50%;\n",
              "      cursor: pointer;\n",
              "      display: none;\n",
              "      fill: #1967D2;\n",
              "      height: 32px;\n",
              "      padding: 0 0 0 0;\n",
              "      width: 32px;\n",
              "    }\n",
              "\n",
              "    .colab-df-convert:hover {\n",
              "      background-color: #E2EBFA;\n",
              "      box-shadow: 0px 1px 2px rgba(60, 64, 67, 0.3), 0px 1px 3px 1px rgba(60, 64, 67, 0.15);\n",
              "      fill: #174EA6;\n",
              "    }\n",
              "\n",
              "    .colab-df-buttons div {\n",
              "      margin-bottom: 4px;\n",
              "    }\n",
              "\n",
              "    [theme=dark] .colab-df-convert {\n",
              "      background-color: #3B4455;\n",
              "      fill: #D2E3FC;\n",
              "    }\n",
              "\n",
              "    [theme=dark] .colab-df-convert:hover {\n",
              "      background-color: #434B5C;\n",
              "      box-shadow: 0px 1px 3px 1px rgba(0, 0, 0, 0.15);\n",
              "      filter: drop-shadow(0px 1px 2px rgba(0, 0, 0, 0.3));\n",
              "      fill: #FFFFFF;\n",
              "    }\n",
              "  </style>\n",
              "\n",
              "    <script>\n",
              "      const buttonEl =\n",
              "        document.querySelector('#df-2389c3e6-d4c6-4f3d-9070-17ddeed0040e button.colab-df-convert');\n",
              "      buttonEl.style.display =\n",
              "        google.colab.kernel.accessAllowed ? 'block' : 'none';\n",
              "\n",
              "      async function convertToInteractive(key) {\n",
              "        const element = document.querySelector('#df-2389c3e6-d4c6-4f3d-9070-17ddeed0040e');\n",
              "        const dataTable =\n",
              "          await google.colab.kernel.invokeFunction('convertToInteractive',\n",
              "                                                    [key], {});\n",
              "        if (!dataTable) return;\n",
              "\n",
              "        const docLinkHtml = 'Like what you see? Visit the ' +\n",
              "          '<a target=\"_blank\" href=https://colab.research.google.com/notebooks/data_table.ipynb>data table notebook</a>'\n",
              "          + ' to learn more about interactive tables.';\n",
              "        element.innerHTML = '';\n",
              "        dataTable['output_type'] = 'display_data';\n",
              "        await google.colab.output.renderOutput(dataTable, element);\n",
              "        const docLink = document.createElement('div');\n",
              "        docLink.innerHTML = docLinkHtml;\n",
              "        element.appendChild(docLink);\n",
              "      }\n",
              "    </script>\n",
              "  </div>\n",
              "\n",
              "\n",
              "    <div id=\"df-1a328104-d9ef-40b5-b40b-17c6c041b5a6\">\n",
              "      <button class=\"colab-df-quickchart\" onclick=\"quickchart('df-1a328104-d9ef-40b5-b40b-17c6c041b5a6')\"\n",
              "                title=\"Suggest charts\"\n",
              "                style=\"display:none;\">\n",
              "\n",
              "<svg xmlns=\"http://www.w3.org/2000/svg\" height=\"24px\"viewBox=\"0 0 24 24\"\n",
              "     width=\"24px\">\n",
              "    <g>\n",
              "        <path d=\"M19 3H5c-1.1 0-2 .9-2 2v14c0 1.1.9 2 2 2h14c1.1 0 2-.9 2-2V5c0-1.1-.9-2-2-2zM9 17H7v-7h2v7zm4 0h-2V7h2v10zm4 0h-2v-4h2v4z\"/>\n",
              "    </g>\n",
              "</svg>\n",
              "      </button>\n",
              "\n",
              "<style>\n",
              "  .colab-df-quickchart {\n",
              "      --bg-color: #E8F0FE;\n",
              "      --fill-color: #1967D2;\n",
              "      --hover-bg-color: #E2EBFA;\n",
              "      --hover-fill-color: #174EA6;\n",
              "      --disabled-fill-color: #AAA;\n",
              "      --disabled-bg-color: #DDD;\n",
              "  }\n",
              "\n",
              "  [theme=dark] .colab-df-quickchart {\n",
              "      --bg-color: #3B4455;\n",
              "      --fill-color: #D2E3FC;\n",
              "      --hover-bg-color: #434B5C;\n",
              "      --hover-fill-color: #FFFFFF;\n",
              "      --disabled-bg-color: #3B4455;\n",
              "      --disabled-fill-color: #666;\n",
              "  }\n",
              "\n",
              "  .colab-df-quickchart {\n",
              "    background-color: var(--bg-color);\n",
              "    border: none;\n",
              "    border-radius: 50%;\n",
              "    cursor: pointer;\n",
              "    display: none;\n",
              "    fill: var(--fill-color);\n",
              "    height: 32px;\n",
              "    padding: 0;\n",
              "    width: 32px;\n",
              "  }\n",
              "\n",
              "  .colab-df-quickchart:hover {\n",
              "    background-color: var(--hover-bg-color);\n",
              "    box-shadow: 0 1px 2px rgba(60, 64, 67, 0.3), 0 1px 3px 1px rgba(60, 64, 67, 0.15);\n",
              "    fill: var(--button-hover-fill-color);\n",
              "  }\n",
              "\n",
              "  .colab-df-quickchart-complete:disabled,\n",
              "  .colab-df-quickchart-complete:disabled:hover {\n",
              "    background-color: var(--disabled-bg-color);\n",
              "    fill: var(--disabled-fill-color);\n",
              "    box-shadow: none;\n",
              "  }\n",
              "\n",
              "  .colab-df-spinner {\n",
              "    border: 2px solid var(--fill-color);\n",
              "    border-color: transparent;\n",
              "    border-bottom-color: var(--fill-color);\n",
              "    animation:\n",
              "      spin 1s steps(1) infinite;\n",
              "  }\n",
              "\n",
              "  @keyframes spin {\n",
              "    0% {\n",
              "      border-color: transparent;\n",
              "      border-bottom-color: var(--fill-color);\n",
              "      border-left-color: var(--fill-color);\n",
              "    }\n",
              "    20% {\n",
              "      border-color: transparent;\n",
              "      border-left-color: var(--fill-color);\n",
              "      border-top-color: var(--fill-color);\n",
              "    }\n",
              "    30% {\n",
              "      border-color: transparent;\n",
              "      border-left-color: var(--fill-color);\n",
              "      border-top-color: var(--fill-color);\n",
              "      border-right-color: var(--fill-color);\n",
              "    }\n",
              "    40% {\n",
              "      border-color: transparent;\n",
              "      border-right-color: var(--fill-color);\n",
              "      border-top-color: var(--fill-color);\n",
              "    }\n",
              "    60% {\n",
              "      border-color: transparent;\n",
              "      border-right-color: var(--fill-color);\n",
              "    }\n",
              "    80% {\n",
              "      border-color: transparent;\n",
              "      border-right-color: var(--fill-color);\n",
              "      border-bottom-color: var(--fill-color);\n",
              "    }\n",
              "    90% {\n",
              "      border-color: transparent;\n",
              "      border-bottom-color: var(--fill-color);\n",
              "    }\n",
              "  }\n",
              "</style>\n",
              "\n",
              "      <script>\n",
              "        async function quickchart(key) {\n",
              "          const quickchartButtonEl =\n",
              "            document.querySelector('#' + key + ' button');\n",
              "          quickchartButtonEl.disabled = true;  // To prevent multiple clicks.\n",
              "          quickchartButtonEl.classList.add('colab-df-spinner');\n",
              "          try {\n",
              "            const charts = await google.colab.kernel.invokeFunction(\n",
              "                'suggestCharts', [key], {});\n",
              "          } catch (error) {\n",
              "            console.error('Error during call to suggestCharts:', error);\n",
              "          }\n",
              "          quickchartButtonEl.classList.remove('colab-df-spinner');\n",
              "          quickchartButtonEl.classList.add('colab-df-quickchart-complete');\n",
              "        }\n",
              "        (() => {\n",
              "          let quickchartButtonEl =\n",
              "            document.querySelector('#df-1a328104-d9ef-40b5-b40b-17c6c041b5a6 button');\n",
              "          quickchartButtonEl.style.display =\n",
              "            google.colab.kernel.accessAllowed ? 'block' : 'none';\n",
              "        })();\n",
              "      </script>\n",
              "    </div>\n",
              "\n",
              "    </div>\n",
              "  </div>\n"
            ],
            "application/vnd.google.colaboratory.intrinsic+json": {
              "type": "dataframe",
              "variable_name": "data",
              "summary": "{\n  \"name\": \"data\",\n  \"rows\": 1349,\n  \"fields\": [\n    {\n      \"column\": \"pclass\",\n      \"properties\": {\n        \"dtype\": \"number\",\n        \"std\": 0,\n        \"min\": 1,\n        \"max\": 3,\n        \"num_unique_values\": 3,\n        \"samples\": [\n          1,\n          2,\n          3\n        ],\n        \"semantic_type\": \"\",\n        \"description\": \"\"\n      }\n    },\n    {\n      \"column\": \"survived\",\n      \"properties\": {\n        \"dtype\": \"number\",\n        \"std\": 0,\n        \"min\": 0,\n        \"max\": 1,\n        \"num_unique_values\": 2,\n        \"samples\": [\n          0,\n          1\n        ],\n        \"semantic_type\": \"\",\n        \"description\": \"\"\n      }\n    },\n    {\n      \"column\": \"name\",\n      \"properties\": {\n        \"dtype\": \"string\",\n        \"num_unique_values\": 1303,\n        \"samples\": [\n          \"Laroche, Miss. Simonne Marie Anne Andree\",\n          \"Moen, Mr. Sigurd Hansen\"\n        ],\n        \"semantic_type\": \"\",\n        \"description\": \"\"\n      }\n    },\n    {\n      \"column\": \"sex\",\n      \"properties\": {\n        \"dtype\": \"category\",\n        \"num_unique_values\": 2,\n        \"samples\": [\n          \"male\",\n          \"female\"\n        ],\n        \"semantic_type\": \"\",\n        \"description\": \"\"\n      }\n    },\n    {\n      \"column\": \"age\",\n      \"properties\": {\n        \"dtype\": \"number\",\n        \"std\": 14.316625200089677,\n        \"min\": 0.1667,\n        \"max\": 80.0,\n        \"num_unique_values\": 98,\n        \"samples\": [\n          57.0,\n          55.0\n        ],\n        \"semantic_type\": \"\",\n        \"description\": \"\"\n      }\n    },\n    {\n      \"column\": \"sibsp\",\n      \"properties\": {\n        \"dtype\": \"number\",\n        \"std\": 1,\n        \"min\": 0,\n        \"max\": 8,\n        \"num_unique_values\": 7,\n        \"samples\": [\n          0,\n          1\n        ],\n        \"semantic_type\": \"\",\n        \"description\": \"\"\n      }\n    },\n    {\n      \"column\": \"parch\",\n      \"properties\": {\n        \"dtype\": \"number\",\n        \"std\": 0,\n        \"min\": 0,\n        \"max\": 9,\n        \"num_unique_values\": 8,\n        \"samples\": [\n          2,\n          5\n        ],\n        \"semantic_type\": \"\",\n        \"description\": \"\"\n      }\n    },\n    {\n      \"column\": \"ticket\",\n      \"properties\": {\n        \"dtype\": \"string\",\n        \"num_unique_values\": 937,\n        \"samples\": [\n          \"SW/PP 751\",\n          \"PC 17531\"\n        ],\n        \"semantic_type\": \"\",\n        \"description\": \"\"\n      }\n    },\n    {\n      \"column\": \"fare\",\n      \"properties\": {\n        \"dtype\": \"number\",\n        \"std\": 51.142048411739594,\n        \"min\": 0.0,\n        \"max\": 512.3292,\n        \"num_unique_values\": 280,\n        \"samples\": [\n          5.0,\n          13.0\n        ],\n        \"semantic_type\": \"\",\n        \"description\": \"\"\n      }\n    },\n    {\n      \"column\": \"cabin\",\n      \"properties\": {\n        \"dtype\": \"category\",\n        \"num_unique_values\": 186,\n        \"samples\": [\n          \"C90\",\n          \"C80\"\n        ],\n        \"semantic_type\": \"\",\n        \"description\": \"\"\n      }\n    },\n    {\n      \"column\": \"embarked\",\n      \"properties\": {\n        \"dtype\": \"category\",\n        \"num_unique_values\": 3,\n        \"samples\": [\n          \"S\",\n          \"C\"\n        ],\n        \"semantic_type\": \"\",\n        \"description\": \"\"\n      }\n    },\n    {\n      \"column\": \"boat\",\n      \"properties\": {\n        \"dtype\": \"category\",\n        \"num_unique_values\": 28,\n        \"samples\": [\n          \"8\",\n          \"C D\"\n        ],\n        \"semantic_type\": \"\",\n        \"description\": \"\"\n      }\n    },\n    {\n      \"column\": \"body\",\n      \"properties\": {\n        \"dtype\": \"number\",\n        \"std\": 100.2654289872636,\n        \"min\": 1.0,\n        \"max\": 328.0,\n        \"num_unique_values\": 121,\n        \"samples\": [\n          297.0,\n          19.0\n        ],\n        \"semantic_type\": \"\",\n        \"description\": \"\"\n      }\n    },\n    {\n      \"column\": \"home.dest\",\n      \"properties\": {\n        \"dtype\": \"category\",\n        \"num_unique_values\": 369,\n        \"samples\": [\n          \"Co Limerick, Ireland Sherbrooke, PQ\",\n          \"Amenia, ND\"\n        ],\n        \"semantic_type\": \"\",\n        \"description\": \"\"\n      }\n    }\n  ]\n}"
            }
          },
          "metadata": {},
          "execution_count": 13
        }
      ],
      "source": [
        "import pandas as pd\n",
        "data = pd.read_excel('/content/titanic.xlsx') # file excel\n",
        "data.head()"
      ]
    },
    {
      "cell_type": "code",
      "source": [
        "data.info()"
      ],
      "metadata": {
        "colab": {
          "base_uri": "https://localhost:8080/"
        },
        "id": "OPrdChv-QUMu",
        "outputId": "b5fe60f5-87ad-4d56-d3a6-00143b85efce"
      },
      "execution_count": null,
      "outputs": [
        {
          "output_type": "stream",
          "name": "stdout",
          "text": [
            "<class 'pandas.core.frame.DataFrame'>\n",
            "RangeIndex: 1349 entries, 0 to 1348\n",
            "Data columns (total 14 columns):\n",
            " #   Column     Non-Null Count  Dtype  \n",
            "---  ------     --------------  -----  \n",
            " 0   pclass     1349 non-null   int64  \n",
            " 1   survived   1349 non-null   int64  \n",
            " 2   name       1349 non-null   object \n",
            " 3   sex        1349 non-null   object \n",
            " 4   age        1076 non-null   float64\n",
            " 5   sibsp      1349 non-null   int64  \n",
            " 6   parch      1349 non-null   int64  \n",
            " 7   ticket     1349 non-null   object \n",
            " 8   fare       1348 non-null   float64\n",
            " 9   cabin      296 non-null    object \n",
            " 10  embarked   1347 non-null   object \n",
            " 11  boat       487 non-null    object \n",
            " 12  body       129 non-null    float64\n",
            " 13  home.dest  748 non-null    object \n",
            "dtypes: float64(3), int64(4), object(7)\n",
            "memory usage: 147.7+ KB\n"
          ]
        }
      ]
    },
    {
      "cell_type": "code",
      "source": [
        "# 1. Infestigasi pada kondisi:\n",
        "## 1a. Pengecekan kolom yang terdapat data continue di dataframe\n",
        "data_continu = data.select_dtypes(include=['int64','float64'])\n",
        "print(data_continu)"
      ],
      "metadata": {
        "colab": {
          "base_uri": "https://localhost:8080/"
        },
        "id": "z2d2bxvCDE7o",
        "outputId": "f07ce164-570c-420f-87e5-f9213f70dd04"
      },
      "execution_count": null,
      "outputs": [
        {
          "output_type": "stream",
          "name": "stdout",
          "text": [
            "      pclass  survived      age  sibsp  parch      fare   body\n",
            "0          1         1  29.0000      0      0  211.3375    NaN\n",
            "1          1         1   0.9167      1      2  151.5500    NaN\n",
            "2          1         0   2.0000      1      2  151.5500    NaN\n",
            "3          1         0  30.0000      1      2  151.5500  135.0\n",
            "4          1         0  25.0000      1      2  151.5500    NaN\n",
            "...      ...       ...      ...    ...    ...       ...    ...\n",
            "1344       3         0  14.5000      1      0   14.4542  328.0\n",
            "1345       3         0      NaN      1      0   14.4542    NaN\n",
            "1346       3         0  26.5000      0      0    7.2250  304.0\n",
            "1347       3         0  27.0000      0      0    7.2250    NaN\n",
            "1348       3         0  29.0000      0      0    7.8750    NaN\n",
            "\n",
            "[1349 rows x 7 columns]\n"
          ]
        }
      ]
    },
    {
      "cell_type": "markdown",
      "source": [
        "Berasarkan output, dapat melihat bahwa kolom 'pclass', 'survived', 'age',  'sibsp', 'parch', 'fare' dan 'body' memiliki tipe data numerik (int64 dan float64) sehingga kemungkinan besar berisi data kontinu."
      ],
      "metadata": {
        "id": "rGSDRkUkD5zF"
      }
    },
    {
      "cell_type": "code",
      "source": [
        "## 1b. Pengecekan kolom yang terdapat data kategorikal\n",
        "data_category = data.select_dtypes(include=['object', 'category'])\n",
        "print(data_category)"
      ],
      "metadata": {
        "colab": {
          "base_uri": "https://localhost:8080/"
        },
        "id": "ZCKduibjE_b2",
        "outputId": "b71ee271-cab9-4894-bd08-f9f146562daa"
      },
      "execution_count": null,
      "outputs": [
        {
          "output_type": "stream",
          "name": "stdout",
          "text": [
            "                                                 name     sex  ticket  \\\n",
            "0                       Allen, Miss. Elisabeth Walton  female   24160   \n",
            "1                      Allison, Master. Hudson Trevor    male  113781   \n",
            "2                        Allison, Miss. Helen Loraine  female  113781   \n",
            "3                Allison, Mr. Hudson Joshua Creighton    male  113781   \n",
            "4     Allison, Mrs. Hudson J C (Bessie Waldo Daniels)  female  113781   \n",
            "...                                               ...     ...     ...   \n",
            "1344                             Zabour, Miss. Hileni  female    2665   \n",
            "1345                            Zabour, Miss. Thamine  female    2665   \n",
            "1346                        Zakarian, Mr. Mapriededer    male    2656   \n",
            "1347                              Zakarian, Mr. Ortin    male    2670   \n",
            "1348                               Zimmerman, Mr. Leo    male  315082   \n",
            "\n",
            "        cabin embarked boat                        home.dest  \n",
            "0          B5        S    2                     St Louis, MO  \n",
            "1     C22 C26        S   11  Montreal, PQ / Chesterville, ON  \n",
            "2     C22 C26        S  NaN  Montreal, PQ / Chesterville, ON  \n",
            "3     C22 C26        S  NaN  Montreal, PQ / Chesterville, ON  \n",
            "4     C22 C26        S  NaN  Montreal, PQ / Chesterville, ON  \n",
            "...       ...      ...  ...                              ...  \n",
            "1344      NaN        C  NaN                              NaN  \n",
            "1345      NaN        C  NaN                              NaN  \n",
            "1346      NaN        C  NaN                              NaN  \n",
            "1347      NaN        C  NaN                              NaN  \n",
            "1348      NaN        S  NaN                              NaN  \n",
            "\n",
            "[1349 rows x 7 columns]\n"
          ]
        }
      ]
    },
    {
      "cell_type": "markdown",
      "source": [
        "Berasarkan output, dapat melihat bahwa kolom ''name', 'sex', 'ticket', 'cabin', 'embarked', 'boat' dan'home.dest' memiliki tipe data kategorik.\n",
        "\n",
        "Data kategorikal merupakan jenis data yang dapat dibagi menjadi beberapa kategori atau kelompok. Ada dua jenis utama data kategorikal: nominal dan ordinal. Data nominal tidak memiliki urutan, sementara data ordinal memiliki urutan atau peringkat.\n",
        "\n",
        "Pada kolom data yang termasuk dalam data kategorik nominal adalah kolom 'name','sex', 'embarked' dan 'home.dest'. Sedangkan yang termasuk dalam data kategorik ordinal adalah 'ticket','cabin' dan 'boat'.\n"
      ],
      "metadata": {
        "id": "svEN4d2FM3Zl"
      }
    },
    {
      "cell_type": "code",
      "source": [
        "# 2. Looping\n",
        "## 2a. for loop : print semua nama kolom yang ada pada file titanic.xlsx yang hanya dimulai dengan huruf konsonan\n",
        "def print_kolom_konsonan(data):\n",
        "    \"\"\"\n",
        "    Mencetak nama kolom pada file yang dimulai dengan huruf konsonan.\n",
        "\n",
        "    Args:\n",
        "        file_path (str): Path ke file CSV.\n",
        "    \"\"\"\n",
        "    try:\n",
        "        df = pd.read_excel('/content/titanic.xlsx')\n",
        "        for kolom in df.columns:\n",
        "            if kolom[0].lower() not in 'aiueo':\n",
        "                print(kolom)\n",
        "    except FileNotFoundError:\n",
        "        print(f\"Error: File tidak ditemukan pada path: {df}\")\n",
        "    except pd.errors.EmptyDataError:\n",
        "        print(f\"Error: File kosong atau tidak ada data pada: {df}\")\n",
        "    except Exception as e:\n",
        "        print(f\"Terjadi kesalahan: {e}\")\n",
        "\n",
        "\n",
        "# Contoh penggunaan:\n",
        "file_path = 'titanic.xlsx'  # Ganti dengan path file Anda\n",
        "print_kolom_konsonan(file_path)"
      ],
      "metadata": {
        "colab": {
          "base_uri": "https://localhost:8080/"
        },
        "id": "nt7A0S61BgwI",
        "outputId": "a422a9b9-45e4-442a-cf25-90b945b00d21"
      },
      "execution_count": null,
      "outputs": [
        {
          "output_type": "stream",
          "name": "stdout",
          "text": [
            "pclass\n",
            "survived\n",
            "name\n",
            "sex\n",
            "sibsp\n",
            "parch\n",
            "ticket\n",
            "fare\n",
            "cabin\n",
            "boat\n",
            "body\n",
            "home.dest\n"
          ]
        }
      ]
    },
    {
      "cell_type": "code",
      "source": [
        "## 2b. while loop : print semua angka ganjil hingga 30. Jika angka ganjil habis dibagi 3, print \"angka ini habis dibagi 3\"\n",
        "angka = 1\n",
        "while angka <= 30:\n",
        "    if angka % 2 != 0:\n",
        "        print(angka, end=\" \")\n",
        "        if angka % 3 == 0:\n",
        "            print(\"angka ini habis dibagi 3\")\n",
        "        else:\n",
        "           print() # Pindah baris\n",
        "    angka += 1"
      ],
      "metadata": {
        "colab": {
          "base_uri": "https://localhost:8080/"
        },
        "id": "N50_hy0TY8eH",
        "outputId": "9d5dad20-d10d-4ab3-b185-0a37051e7bd0"
      },
      "execution_count": null,
      "outputs": [
        {
          "output_type": "stream",
          "name": "stdout",
          "text": [
            "1 \n",
            "3 angka ini habis dibagi 3\n",
            "5 \n",
            "7 \n",
            "9 angka ini habis dibagi 3\n",
            "11 \n",
            "13 \n",
            "15 angka ini habis dibagi 3\n",
            "17 \n",
            "19 \n",
            "21 angka ini habis dibagi 3\n",
            "23 \n",
            "25 \n",
            "27 angka ini habis dibagi 3\n",
            "29 \n"
          ]
        }
      ]
    },
    {
      "cell_type": "code",
      "source": [
        "# 3. Manipulasi data titanic.xlsx menggunakan lambda function\n",
        "## 3a. Jumlah missing value (NaN) pada kolom body\n",
        "body = data['body'].isna().sum()\n",
        "print(f\"Jumlah missing values pada kolom body: {body}\")"
      ],
      "metadata": {
        "colab": {
          "base_uri": "https://localhost:8080/"
        },
        "id": "lqhkiWrLZIne",
        "outputId": "2928a468-e160-4c5d-a9be-e1791e0fa201"
      },
      "execution_count": null,
      "outputs": [
        {
          "output_type": "stream",
          "name": "stdout",
          "text": [
            "Jumlah missing values pada kolom body: 1220\n"
          ]
        }
      ]
    },
    {
      "cell_type": "code",
      "source": [
        "## 3b. Ubah female menjadi 0 dan male menjadi 1 pada kolom sex\n",
        "from sklearn.preprocessing import LabelEncoder\n",
        "\n",
        "labelencoder = LabelEncoder()\n",
        "gender = data['sex'].replace({\"female\": 0, \"male\": 1})\n",
        "data['sex'] = labelencoder.fit_transform(gender)\n",
        "print(data['sex'])"
      ],
      "metadata": {
        "colab": {
          "base_uri": "https://localhost:8080/"
        },
        "id": "8jUUhgF45fqb",
        "outputId": "340bd109-9db9-4c06-f99b-623046432c05"
      },
      "execution_count": null,
      "outputs": [
        {
          "output_type": "stream",
          "name": "stdout",
          "text": [
            "0       0\n",
            "1       1\n",
            "2       0\n",
            "3       1\n",
            "4       0\n",
            "       ..\n",
            "1344    0\n",
            "1345    0\n",
            "1346    1\n",
            "1347    1\n",
            "1348    1\n",
            "Name: sex, Length: 1349, dtype: int64\n"
          ]
        },
        {
          "output_type": "stream",
          "name": "stderr",
          "text": [
            "/tmp/ipython-input-20-2461232729.py:5: FutureWarning: Downcasting behavior in `replace` is deprecated and will be removed in a future version. To retain the old behavior, explicitly call `result.infer_objects(copy=False)`. To opt-in to the future behavior, set `pd.set_option('future.no_silent_downcasting', True)`\n",
            "  gender = data['sex'].replace({\"female\": 0, \"male\": 1})\n"
          ]
        }
      ]
    }
  ]
}